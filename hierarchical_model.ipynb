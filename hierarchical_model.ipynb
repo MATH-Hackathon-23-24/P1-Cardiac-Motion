{
 "cells": [
  {
   "cell_type": "code",
   "execution_count": 1,
   "metadata": {
    "ExecuteTime": {
     "end_time": "2024-01-23T15:16:33.383609478Z",
     "start_time": "2024-01-23T15:16:33.338813066Z"
    },
    "colab": {
     "base_uri": "https://localhost:8080/"
    },
    "executionInfo": {
     "elapsed": 39323,
     "status": "ok",
     "timestamp": 1705928962616,
     "user": {
      "displayName": "Martin Hanik",
      "userId": "13896563367487796358"
     },
     "user_tz": -60
    },
    "id": "IR14f56TDVW7",
    "outputId": "6b7579e5-8b42-4004-b2c4-7b1f09c9e26a"
   },
   "outputs": [],
   "source": [
    "# Attention: ACDC data must be obtained and put into the folder 'ACDC-Data' to run this notebook\n",
    "\n",
    "import numpy as np\n",
    "import matplotlib.pyplot as plt\n",
    "import joblib\n",
    "from ipywidgets import interact\n",
    "import pickle\n",
    "import jax.numpy as jnp\n",
    "\n",
    "from morphomatics.manifold import Kendall\n",
    "from morphomatics.manifold import Bezierfold\n",
    "from morphomatics.stats import RiemannianRegression"
   ]
  },
  {
   "cell_type": "code",
   "execution_count": 6,
   "metadata": {
    "ExecuteTime": {
     "end_time": "2024-01-23T15:19:34.556334779Z",
     "start_time": "2024-01-23T15:16:34.926318832Z"
    },
    "id": "f3s0ssCLSQ5e"
   },
   "outputs": [],
   "source": [
    "n_segments = 2\n",
    "degree = 3\n",
    "\n",
    "def reg(Y, t):\n",
    "    return RiemannianRegression(M, Y, t, degree, n_segments, iscycle=True).trend\n",
    "\n",
    "# setup Kendall shape space\n",
    "M = Kendall([263, 2])\n",
    "\n",
    "\n",
    "#list of groups to map to kendall \n",
    "group_list = [\"ACDC-Data/contours_registered_DCM.joblib\", \"ACDC-Data/contours_registered_HCM.joblib\", \"ACDC-Data/contours_registered_MINF.joblib\",\"ACDC-Data/contours_registered_NOR.joblib\"]\n",
    "pickle_list = [\"trends/trends_DCM.pkl\", \"trends/trends_HCM.pkl\", \"trends/trends_MINF.pkl\", \"trends/trends_NOR.pkl\"]\n",
    "\n",
    "surf_full = []\n",
    "for j, group in enumerate(group_list):\n",
    "    contours = joblib.load(group)\n",
    "    contours = list(contours.values())\n",
    "\n",
    "    # read in shapes (encoded as n-by-2 array)\n",
    "    surfs = [np.array(c) for c in contours] # <- surfs[k][l] holds l-th frame of k-th subject\n",
    "    surf_full.append(surfs)\n",
    "\n",
    "    subjecttrends = []\n",
    "\n",
    "    for i in range(len(surfs)):\n",
    "\n",
    "        # map to shape space\n",
    "        surfs = [jnp.array([M.to_coords(s) for s in surfs_i]) for surfs_i in surfs]\n",
    "\n",
    "        # set corresponding times\n",
    "        times = [jnp.linspace(0., 2, len(surfs_i)+1)[:-1] for surfs_i in surfs]\n",
    "\n",
    "        subjecttrends.append(reg(surfs[i], times[i]))\n",
    "        \n",
    "        \n",
    "    pickle.dump(subjecttrends, open(pickle_list[j], 'wb'), pickle.HIGHEST_PROTOCOL)\n"
   ]
  },
  {
   "cell_type": "code",
   "execution_count": 7,
   "metadata": {
    "ExecuteTime": {
     "end_time": "2024-01-23T15:21:00.273046832Z",
     "start_time": "2024-01-23T15:20:59.618749356Z"
    },
    "id": "f3s0ssCLSQ5e",
    "scrolled": true
   },
   "outputs": [
    {
     "data": {
      "application/vnd.jupyter.widget-view+json": {
       "model_id": "0a04c65433214f76b4b59b494b007184",
       "version_major": 2,
       "version_minor": 0
      },
      "text/plain": [
       "interactive(children=(IntSlider(value=14, description='i', max=29), Output()), _dom_classes=('widget-interact'…"
      ]
     },
     "metadata": {},
     "output_type": "display_data"
    }
   ],
   "source": [
    "trends_dcm = pickle.load(open('./trends/trends_DCM.pkl', 'rb'))\n",
    "trends_hcm = pickle.load(open('./trends/trends_HCM.pkl', 'rb'))\n",
    "trends_minf = pickle.load(open('./trends/trends_MINF.pkl', 'rb'))\n",
    "trends_nor = pickle.load(open('./trends/trends_NOR.pkl', 'rb'))\n",
    "\n",
    "\n",
    "group_idx = 0  # DCM = 0, HCM = 1, MINF = 2, NOR = 3\n",
    "sample_idx = 0\n",
    "\n",
    "@interact\n",
    "def plot(i=(0, len(surf_full[group_idx][sample_idx]) - 1, 1)):\n",
    "    t = times[sample_idx][i]\n",
    "    pts = trends_nor[sample_idx].eval(t)\n",
    "    plt.plot(*surfs[sample_idx][i].T)\n",
    "    plt.plot(*pts.T)\n",
    "    plt.xlim(-0.1, 0.1)\n",
    "    plt.ylim(-0.08, 0.08)\n",
    "    return plt.gca()"
   ]
  },
  {
   "cell_type": "code",
   "execution_count": null,
   "metadata": {},
   "outputs": [],
   "source": [
    "# Create manifold of Bezier splines\n",
    "B = Bezierfold(M, n_segments, degree, isscycle=True)"
   ]
  },
  {
   "cell_type": "code",
   "execution_count": null,
   "metadata": {},
   "outputs": [],
   "source": []
  }
 ],
 "metadata": {
  "colab": {
   "authorship_tag": "ABX9TyPlOb03lxHBiYi06aVF3yeY",
   "provenance": []
  },
  "kernelspec": {
   "display_name": "Python 3 (ipykernel)",
   "language": "python",
   "name": "python3"
  },
  "language_info": {
   "codemirror_mode": {
    "name": "ipython",
    "version": 3
   },
   "file_extension": ".py",
   "mimetype": "text/x-python",
   "name": "python",
   "nbconvert_exporter": "python",
   "pygments_lexer": "ipython3",
   "version": "3.11.2"
  },
  "widgets": {
   "application/vnd.jupyter.widget-state+json": {
    "000f350db68b40e0ab0ffce9d415b3fc": {
     "model_module": "@jupyter-widgets/base",
     "model_module_version": "1.2.0",
     "model_name": "LayoutModel",
     "state": {
      "_model_module": "@jupyter-widgets/base",
      "_model_module_version": "1.2.0",
      "_model_name": "LayoutModel",
      "_view_count": null,
      "_view_module": "@jupyter-widgets/base",
      "_view_module_version": "1.2.0",
      "_view_name": "LayoutView",
      "align_content": null,
      "align_items": null,
      "align_self": null,
      "border": null,
      "bottom": null,
      "display": null,
      "flex": null,
      "flex_flow": null,
      "grid_area": null,
      "grid_auto_columns": null,
      "grid_auto_flow": null,
      "grid_auto_rows": null,
      "grid_column": null,
      "grid_gap": null,
      "grid_row": null,
      "grid_template_areas": null,
      "grid_template_columns": null,
      "grid_template_rows": null,
      "height": null,
      "justify_content": null,
      "justify_items": null,
      "left": null,
      "margin": null,
      "max_height": null,
      "max_width": null,
      "min_height": null,
      "min_width": null,
      "object_fit": null,
      "object_position": null,
      "order": null,
      "overflow": null,
      "overflow_x": null,
      "overflow_y": null,
      "padding": null,
      "right": null,
      "top": null,
      "visibility": null,
      "width": null
     }
    },
    "1bcc2389912742e0b5aba1aaf32e1dd6": {
     "model_module": "@jupyter-widgets/controls",
     "model_module_version": "1.5.0",
     "model_name": "SliderStyleModel",
     "state": {
      "_model_module": "@jupyter-widgets/controls",
      "_model_module_version": "1.5.0",
      "_model_name": "SliderStyleModel",
      "_view_count": null,
      "_view_module": "@jupyter-widgets/base",
      "_view_module_version": "1.2.0",
      "_view_name": "StyleView",
      "description_width": "",
      "handle_color": null
     }
    },
    "22460dbb95ea48b99e857fad57268e43": {
     "model_module": "@jupyter-widgets/controls",
     "model_module_version": "1.5.0",
     "model_name": "IntSliderModel",
     "state": {
      "_dom_classes": [],
      "_model_module": "@jupyter-widgets/controls",
      "_model_module_version": "1.5.0",
      "_model_name": "IntSliderModel",
      "_view_count": null,
      "_view_module": "@jupyter-widgets/controls",
      "_view_module_version": "1.5.0",
      "_view_name": "IntSliderView",
      "continuous_update": true,
      "description": "i",
      "description_tooltip": null,
      "disabled": false,
      "layout": "IPY_MODEL_33b81f65d9c048b2b9b8a4ad0dddf880",
      "max": 30,
      "min": 0,
      "orientation": "horizontal",
      "readout": true,
      "readout_format": "d",
      "step": 1,
      "style": "IPY_MODEL_1bcc2389912742e0b5aba1aaf32e1dd6",
      "value": 18
     }
    },
    "33b81f65d9c048b2b9b8a4ad0dddf880": {
     "model_module": "@jupyter-widgets/base",
     "model_module_version": "1.2.0",
     "model_name": "LayoutModel",
     "state": {
      "_model_module": "@jupyter-widgets/base",
      "_model_module_version": "1.2.0",
      "_model_name": "LayoutModel",
      "_view_count": null,
      "_view_module": "@jupyter-widgets/base",
      "_view_module_version": "1.2.0",
      "_view_name": "LayoutView",
      "align_content": null,
      "align_items": null,
      "align_self": null,
      "border": null,
      "bottom": null,
      "display": null,
      "flex": null,
      "flex_flow": null,
      "grid_area": null,
      "grid_auto_columns": null,
      "grid_auto_flow": null,
      "grid_auto_rows": null,
      "grid_column": null,
      "grid_gap": null,
      "grid_row": null,
      "grid_template_areas": null,
      "grid_template_columns": null,
      "grid_template_rows": null,
      "height": null,
      "justify_content": null,
      "justify_items": null,
      "left": null,
      "margin": null,
      "max_height": null,
      "max_width": null,
      "min_height": null,
      "min_width": null,
      "object_fit": null,
      "object_position": null,
      "order": null,
      "overflow": null,
      "overflow_x": null,
      "overflow_y": null,
      "padding": null,
      "right": null,
      "top": null,
      "visibility": null,
      "width": null
     }
    },
    "49895e79bb274e7c9365ee4a6b9c7371": {
     "model_module": "@jupyter-widgets/output",
     "model_module_version": "1.0.0",
     "model_name": "OutputModel",
     "state": {
      "_dom_classes": [],
      "_model_module": "@jupyter-widgets/output",
      "_model_module_version": "1.0.0",
      "_model_name": "OutputModel",
      "_view_count": null,
      "_view_module": "@jupyter-widgets/output",
      "_view_module_version": "1.0.0",
      "_view_name": "OutputView",
      "layout": "IPY_MODEL_6b806fa795714230a0ee2a9b2a784c99",
      "msg_id": "",
      "outputs": []
     }
    },
    "6b806fa795714230a0ee2a9b2a784c99": {
     "model_module": "@jupyter-widgets/base",
     "model_module_version": "1.2.0",
     "model_name": "LayoutModel",
     "state": {
      "_model_module": "@jupyter-widgets/base",
      "_model_module_version": "1.2.0",
      "_model_name": "LayoutModel",
      "_view_count": null,
      "_view_module": "@jupyter-widgets/base",
      "_view_module_version": "1.2.0",
      "_view_name": "LayoutView",
      "align_content": null,
      "align_items": null,
      "align_self": null,
      "border": null,
      "bottom": null,
      "display": null,
      "flex": null,
      "flex_flow": null,
      "grid_area": null,
      "grid_auto_columns": null,
      "grid_auto_flow": null,
      "grid_auto_rows": null,
      "grid_column": null,
      "grid_gap": null,
      "grid_row": null,
      "grid_template_areas": null,
      "grid_template_columns": null,
      "grid_template_rows": null,
      "height": null,
      "justify_content": null,
      "justify_items": null,
      "left": null,
      "margin": null,
      "max_height": null,
      "max_width": null,
      "min_height": null,
      "min_width": null,
      "object_fit": null,
      "object_position": null,
      "order": null,
      "overflow": null,
      "overflow_x": null,
      "overflow_y": null,
      "padding": null,
      "right": null,
      "top": null,
      "visibility": null,
      "width": null
     }
    },
    "796d3abd48c84e8aa3f9e3f72c1311db": {
     "model_module": "@jupyter-widgets/controls",
     "model_module_version": "1.5.0",
     "model_name": "VBoxModel",
     "state": {
      "_dom_classes": [
       "widget-interact"
      ],
      "_model_module": "@jupyter-widgets/controls",
      "_model_module_version": "1.5.0",
      "_model_name": "VBoxModel",
      "_view_count": null,
      "_view_module": "@jupyter-widgets/controls",
      "_view_module_version": "1.5.0",
      "_view_name": "VBoxView",
      "box_style": "",
      "children": [
       "IPY_MODEL_22460dbb95ea48b99e857fad57268e43",
       "IPY_MODEL_49895e79bb274e7c9365ee4a6b9c7371"
      ],
      "layout": "IPY_MODEL_000f350db68b40e0ab0ffce9d415b3fc"
     }
    }
   }
  }
 },
 "nbformat": 4,
 "nbformat_minor": 4
}
